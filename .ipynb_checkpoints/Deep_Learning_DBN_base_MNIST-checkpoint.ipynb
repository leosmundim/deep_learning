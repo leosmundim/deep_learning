{
 "cells": [
  {
   "cell_type": "code",
   "execution_count": 1,
   "id": "a3fa0bdb",
   "metadata": {},
   "outputs": [],
   "source": [
    "import pandas as pd\n",
    "import numpy as np\n",
    "import matplotlib.pyplot as plt\n",
    "import seaborn as sns"
   ]
  },
  {
   "cell_type": "markdown",
   "id": "8b72ddb8",
   "metadata": {},
   "source": [
    "# Deep Learning - Deep Belief Network (DBN)\n",
    "\n",
    "DBN (Deep Belief Network) ou Rede de Crença Profunda é um tipo de arquitetura de rede neural artificial que consiste em múltiplas camadas de unidades de processamento. Essas unidades podem ser neurônios artificiais ou unidades de ativação que funcionam de maneira análoga aos neurônios biológicos.\n",
    "\n",
    "O conceito central por trás das DBNs é a ideia de modelar hierarquias de características complexas presentes nos dados. Cada camada da rede é treinada de forma não supervisionada para aprender representações das características dos dados de entrada. A primeira camada, chamada de camada visível, recebe os dados brutos como entrada. À medida que você avança nas camadas, a complexidade das características aprendidas aumenta, capturando padrões mais abstratos e de alto nível.\n",
    "\n",
    "As DBNs usam a aprendizagem profunda, que se refere à aprendizagem em várias camadas de representações hierárquicas. Elas são compostas por duas partes principais: a etapa de treinamento não supervisionado e a etapa de ajuste supervisionado.\n",
    "\n",
    "Treinamento não supervisionado: Nessa etapa, as camadas são treinadas usando uma técnica chamada Restricted Boltzmann Machines (RBMs). As RBMs são modelos probabilísticos que buscam aprender uma distribuição de probabilidade dos dados de entrada. Cada RBM treina uma camada da rede para reconhecer padrões específicos e aprender representações intermediárias dos dados.\n",
    "\n",
    "Ajuste supervisionado: Após o treinamento não supervisionado, a DBN pode ser ajustada para tarefas específicas usando um processo supervisionado. Isso envolve a introdução de camadas adicionais e treinamento usando um algoritmo de retropropagação, semelhante ao usado em redes neurais convencionais.\n",
    "\n",
    "As DBNs têm sido usadas em várias aplicações, como reconhecimento de fala, processamento de linguagem natural, reconhecimento de padrões em imagens, entre outros. No entanto, elas também têm algumas limitações, como a complexidade do treinamento e a sensibilidade aos hiperparâmetros.\n",
    "\n",
    "Em Resumo as DBNs são o empilhamento das RBMs\n",
    "\n",
    "Referência: https://saturncloud.io/blog/how-to-create-a-deep-belief-network-with-stacked-rbms-using-scikitlearn/ <br>\n",
    "Referência: https://stackoverflow.com/questions/52166308/stacking-rbms-to-create-deep-belief-network-in-sklearn\n",
    "\n",
    "Referência Teórica: https://www.analyticsvidhya.com/blog/2022/03/an-overview-of-deep-belief-network-dbn-in-deep-learning/"
   ]
  },
  {
   "cell_type": "markdown",
   "id": "4f6a62dc",
   "metadata": {},
   "source": [
    "## Base MNIST\n",
    "\n",
    "A base contém 60 mil imagens com as dimensões 28x28 = 784 pixels"
   ]
  },
  {
   "cell_type": "code",
   "execution_count": 2,
   "id": "bd8c2a23",
   "metadata": {},
   "outputs": [],
   "source": [
    "import random\n",
    "random.seed(0)"
   ]
  },
  {
   "cell_type": "code",
   "execution_count": 3,
   "id": "116e67c6",
   "metadata": {},
   "outputs": [
    {
     "data": {
      "image/png": "[encoded data removed]",
      "text/plain": [
       "<Figure size 640x480 with 5 Axes>"
      ]
     },
     "metadata": {},
     "output_type": "display_data"
    }
   ],
   "source": [
    "from tensorflow.keras.datasets import mnist  # Importa a base de dados MNIST do TensorFlow\n",
    "from sklearn.datasets import fetch_openml\n",
    "\n",
    "# Carrega os dados de treinamento e teste da base MNIST\n",
    "(train_X, train_y), (test_X, test_y) = mnist.load_data()\n",
    "\n",
    "#mnist = fetch_openml('mnist_784', parser='auto')\n",
    "#X, y = mnist.data, mnist.target\n",
    "\n",
    "# Exibe as primeiras 5 imagens da base de treinamento\n",
    "for i in range(5):\n",
    "    plt.subplot(1, 5, i + 1)\n",
    "    plt.imshow(train_X[i], cmap='gray')\n",
    "    plt.title(f\"Label: {train_y[i]}\")\n",
    "    plt.axis('off')\n",
    "\n",
    "plt.show()"
   ]
  },
  {
   "cell_type": "markdown",
   "id": "fff86945",
   "metadata": {},
   "source": [
    "## Tratando a Base\n",
    "\n",
    "A função Bernoulli RBM considera que as colunas das features estejam entre [0,1], a base MNIST está em uma escala entre [0,255].\n",
    "\n",
    "Precisamos ajustar a escala"
   ]
  },
  {
   "cell_type": "code",
   "execution_count": 22,
   "id": "987ec9fc",
   "metadata": {},
   "outputs": [],
   "source": [
    "def scale(X, eps = 0.001):\n",
    "    # scale the data points s.t the columns of the feature space\n",
    "    # (i.e the predictors) are within the range [0, 1]\n",
    "    return (X - np.min(X, axis = 0)) / (np.max(X, axis = 0) + eps)"
   ]
  },
  {
   "cell_type": "code",
   "execution_count": null,
   "id": "f1b5f2b7",
   "metadata": {},
   "outputs": [],
   "source": [
    "#X_train = scale(train_X)\n",
    "#X_test = scale(test_X)"
   ]
  },
  {
   "cell_type": "markdown",
   "id": "454571da",
   "metadata": {},
   "source": [
    "Redimensiona para o formato exigido pelo modelo (duas dimensões) \n",
    "\n",
    "1a Observaçoes (imagens) <br>\n",
    "2a Pixels (28x28 = 784)"
   ]
  },
  {
   "cell_type": "code",
   "execution_count": 4,
   "id": "ba9a3969",
   "metadata": {},
   "outputs": [],
   "source": [
    "X_train = train_X.reshape(-1, 784) / 255.0\n",
    "X_test = test_X.reshape(-1, 784) / 255.0"
   ]
  },
  {
   "cell_type": "code",
   "execution_count": 5,
   "id": "19c489ad",
   "metadata": {},
   "outputs": [
    {
     "data": {
      "text/plain": [
       "(60000, 784)"
      ]
     },
     "execution_count": 5,
     "metadata": {},
     "output_type": "execute_result"
    }
   ],
   "source": [
    "X_train.shape"
   ]
  },
  {
   "cell_type": "code",
   "execution_count": null,
   "id": "2edee762",
   "metadata": {},
   "outputs": [],
   "source": [
    "#y_train = tf.keras.utils.to_categorical(train_y)\n",
    "#y_test = tf.keras.utils.to_categorical(test_y)"
   ]
  },
  {
   "cell_type": "code",
   "execution_count": 6,
   "id": "fd0888bb",
   "metadata": {},
   "outputs": [
    {
     "data": {
      "text/plain": [
       "(60000,)"
      ]
     },
     "execution_count": 6,
     "metadata": {},
     "output_type": "execute_result"
    }
   ],
   "source": [
    "train_y.shape"
   ]
  },
  {
   "cell_type": "markdown",
   "id": "b29fe53d",
   "metadata": {},
   "source": [
    "# Construindo DBN usando Tensor Flow\n",
    "\n",
    "Referência: https://spotintelligence.com/2023/02/10/deep-belief-network/"
   ]
  },
  {
   "cell_type": "code",
   "execution_count": 7,
   "id": "7840c193",
   "metadata": {},
   "outputs": [],
   "source": [
    "import tensorflow as tf\n",
    "from tensorflow.keras.layers import Input, Dense\n",
    "from tensorflow.keras.models import Model\n",
    "from tensorflow.keras.optimizers import Adam"
   ]
  },
  {
   "cell_type": "code",
   "execution_count": 8,
   "id": "21cb3ec5",
   "metadata": {},
   "outputs": [],
   "source": [
    "# Build the DBN\n",
    "input_layer = Input(shape=(784,))\n",
    "hidden_layer_1 = Dense(100, activation='relu')(input_layer)\n",
    "hidden_layer_2 = Dense(100, activation='relu')(hidden_layer_1)\n",
    "hidden_layer_3 = Dense(100, activation='relu')(hidden_layer_2)\n",
    "\n",
    "output_layer = Dense(10, activation='softmax')(hidden_layer_3)\n",
    "\n",
    "model_ts = Model(input_layer, output_layer)"
   ]
  },
  {
   "cell_type": "code",
   "execution_count": 9,
   "id": "79a90f7d",
   "metadata": {},
   "outputs": [],
   "source": [
    "# Compile the model\n",
    "model_ts.compile(optimizer=Adam(), loss='sparse_categorical_crossentropy', metrics=['accuracy'])"
   ]
  },
  {
   "cell_type": "code",
   "execution_count": 11,
   "id": "42b3d4f8",
   "metadata": {},
   "outputs": [
    {
     "name": "stdout",
     "output_type": "stream",
     "text": [
      "Epoch 1/10\n",
      "1875/1875 [==============================] - 3s 1ms/step - loss: 0.2378 - accuracy: 0.9289 - val_loss: 0.1552 - val_accuracy: 0.9550\n",
      "Epoch 2/10\n",
      "1875/1875 [==============================] - 2s 1ms/step - loss: 0.1026 - accuracy: 0.9687 - val_loss: 0.1081 - val_accuracy: 0.9695\n",
      "Epoch 3/10\n",
      "1875/1875 [==============================] - 2s 1ms/step - loss: 0.0744 - accuracy: 0.9772 - val_loss: 0.1202 - val_accuracy: 0.9645\n",
      "Epoch 4/10\n",
      "1875/1875 [==============================] - 2s 1ms/step - loss: 0.0603 - accuracy: 0.9807 - val_loss: 0.0820 - val_accuracy: 0.9757\n",
      "Epoch 5/10\n",
      "1875/1875 [==============================] - 2s 1ms/step - loss: 0.0493 - accuracy: 0.9846 - val_loss: 0.0846 - val_accuracy: 0.9754\n",
      "Epoch 6/10\n",
      "1875/1875 [==============================] - 2s 1ms/step - loss: 0.0422 - accuracy: 0.9865 - val_loss: 0.0750 - val_accuracy: 0.9779\n",
      "Epoch 7/10\n",
      "1875/1875 [==============================] - 2s 1ms/step - loss: 0.0376 - accuracy: 0.9875 - val_loss: 0.0968 - val_accuracy: 0.9722\n",
      "Epoch 8/10\n",
      "1875/1875 [==============================] - 2s 1ms/step - loss: 0.0311 - accuracy: 0.9900 - val_loss: 0.0968 - val_accuracy: 0.9762\n",
      "Epoch 9/10\n",
      "1875/1875 [==============================] - 2s 1ms/step - loss: 0.0290 - accuracy: 0.9904 - val_loss: 0.0957 - val_accuracy: 0.9750\n",
      "Epoch 10/10\n",
      "1875/1875 [==============================] - 2s 1ms/step - loss: 0.0249 - accuracy: 0.9919 - val_loss: 0.1056 - val_accuracy: 0.9737\n"
     ]
    },
    {
     "data": {
      "text/plain": [
       "<keras.src.callbacks.History at 0x1e5d6eae9a0>"
      ]
     },
     "execution_count": 11,
     "metadata": {},
     "output_type": "execute_result"
    }
   ],
   "source": [
    "# Train the model\n",
    "model_ts.fit(X_train, train_y, epochs=10, validation_data=(X_test, test_y))"
   ]
  },
  {
   "cell_type": "code",
   "execution_count": 12,
   "id": "9cb902ba",
   "metadata": {},
   "outputs": [
    {
     "name": "stdout",
     "output_type": "stream",
     "text": [
      "313/313 [==============================] - 0s 684us/step - loss: 0.1056 - accuracy: 0.9737\n",
      "Test accuracy: 0.9736999869346619\n"
     ]
    }
   ],
   "source": [
    "# Evaluate the model\n",
    "test_loss, test_acc = model_ts.evaluate(X_test, test_y)\n",
    "print('Test accuracy:', test_acc)"
   ]
  },
  {
   "cell_type": "code",
   "execution_count": 14,
   "id": "88571166",
   "metadata": {},
   "outputs": [
    {
     "name": "stdout",
     "output_type": "stream",
     "text": [
      "313/313 [==============================] - 0s 610us/step\n"
     ]
    }
   ],
   "source": [
    "reconstructed_images = model_ts.predict(X_test)"
   ]
  },
  {
   "cell_type": "code",
   "execution_count": 20,
   "id": "4e5f6af3",
   "metadata": {},
   "outputs": [
    {
     "name": "stdout",
     "output_type": "stream",
     "text": [
      "Real: 7 - Modelo: 7\n",
      "Real: 2 - Modelo: 2\n",
      "Real: 1 - Modelo: 1\n",
      "Real: 0 - Modelo: 0\n",
      "Real: 4 - Modelo: 4\n",
      "Real: 1 - Modelo: 1\n",
      "Real: 4 - Modelo: 4\n",
      "Real: 9 - Modelo: 9\n",
      "Real: 5 - Modelo: 6\n",
      "Real: 9 - Modelo: 9\n"
     ]
    }
   ],
   "source": [
    "n_prediction= 10\n",
    "for i in range(n_prediction):\n",
    "    print(f'Real: {test_y[i]} - Modelo: {np.argmax(reconstructed_images[i])}')"
   ]
  },
  {
   "cell_type": "markdown",
   "id": "b849af6f",
   "metadata": {},
   "source": [
    "### O modelo DBN TS consegue ler os pixels de uma imagem 28x28 e reconhecer qual é o número com 97% de acurácia."
   ]
  },
  {
   "cell_type": "markdown",
   "id": "bccd7e64",
   "metadata": {},
   "source": [
    "# Construindo modelo DBN usando BernoulliRBM\n",
    "\n",
    "Referência: https://saturncloud.io/blog/how-to-create-a-deep-belief-network-with-stacked-rbms-using-scikitlearn/\n",
    "\n",
    "Referência: https://stackoverflow.com/questions/52166308/stacking-rbms-to-create-deep-belief-network-in-sklearn\n",
    "\n",
    "Referência: https://github.com/eriklindernoren/ML-From-Scratch/blob/master/mlfromscratch/unsupervised_learning/restricted_boltzmann_machine.py\n",
    "\n",
    "Referência: https://pyimagesearch.com/2014/09/22/getting-started-deep-learning-python/"
   ]
  },
  {
   "cell_type": "code",
   "execution_count": 23,
   "id": "5eefd3ca",
   "metadata": {},
   "outputs": [],
   "source": [
    "X_train = scale(train_X).reshape(-1,784)\n",
    "X_test = scale(test_X).reshape(-1,784)"
   ]
  },
  {
   "cell_type": "code",
   "execution_count": 24,
   "id": "7c794e03",
   "metadata": {},
   "outputs": [
    {
     "data": {
      "text/plain": [
       "(60000, 784)"
      ]
     },
     "execution_count": 24,
     "metadata": {},
     "output_type": "execute_result"
    }
   ],
   "source": [
    "X_train.shape"
   ]
  },
  {
   "cell_type": "code",
   "execution_count": 25,
   "id": "5215023d",
   "metadata": {},
   "outputs": [],
   "source": [
    "from sklearn.base import clone\n",
    "from sklearn.pipeline import Pipeline\n",
    "from sklearn.neural_network import BernoulliRBM\n",
    "from sklearn.linear_model import LogisticRegression"
   ]
  },
  {
   "cell_type": "code",
   "execution_count": 26,
   "id": "fe5bf602",
   "metadata": {},
   "outputs": [],
   "source": [
    "rbm = BernoulliRBM(n_components=100, \n",
    "                   learning_rate=0.01, \n",
    "                   n_iter = 10, \n",
    "                   batch_size = 10,\n",
    "                   random_state=0, \n",
    "                   verbose=True)"
   ]
  },
  {
   "cell_type": "code",
   "execution_count": 37,
   "id": "0ab8896a",
   "metadata": {},
   "outputs": [],
   "source": [
    "dbn = Pipeline(steps=[('rbm1', clone(rbm)), ('rbm2', clone(rbm)), ('rbm3', clone(rbm)), ('logistic', LogisticRegression())])"
   ]
  },
  {
   "cell_type": "code",
   "execution_count": 38,
   "id": "3db3007e",
   "metadata": {},
   "outputs": [
    {
     "name": "stdout",
     "output_type": "stream",
     "text": [
      "[BernoulliRBM] Iteration 1, pseudo-likelihood = -113.21, time = 6.36s\n",
      "[BernoulliRBM] Iteration 2, pseudo-likelihood = -99.56, time = 7.28s\n",
      "[BernoulliRBM] Iteration 3, pseudo-likelihood = -93.05, time = 7.21s\n",
      "[BernoulliRBM] Iteration 4, pseudo-likelihood = -90.60, time = 7.49s\n",
      "[BernoulliRBM] Iteration 5, pseudo-likelihood = -86.86, time = 7.52s\n",
      "[BernoulliRBM] Iteration 6, pseudo-likelihood = -84.15, time = 7.43s\n",
      "[BernoulliRBM] Iteration 7, pseudo-likelihood = -82.95, time = 7.43s\n",
      "[BernoulliRBM] Iteration 8, pseudo-likelihood = -81.74, time = 7.46s\n",
      "[BernoulliRBM] Iteration 9, pseudo-likelihood = -80.59, time = 7.46s\n",
      "[BernoulliRBM] Iteration 10, pseudo-likelihood = -80.45, time = 7.44s\n",
      "[BernoulliRBM] Iteration 1, pseudo-likelihood = -35.94, time = 1.06s\n",
      "[BernoulliRBM] Iteration 2, pseudo-likelihood = -31.10, time = 1.52s\n",
      "[BernoulliRBM] Iteration 3, pseudo-likelihood = -28.05, time = 1.53s\n",
      "[BernoulliRBM] Iteration 4, pseudo-likelihood = -27.24, time = 1.52s\n",
      "[BernoulliRBM] Iteration 5, pseudo-likelihood = -26.05, time = 1.52s\n",
      "[BernoulliRBM] Iteration 6, pseudo-likelihood = -24.78, time = 1.51s\n",
      "[BernoulliRBM] Iteration 7, pseudo-likelihood = -24.56, time = 1.51s\n",
      "[BernoulliRBM] Iteration 8, pseudo-likelihood = -24.14, time = 1.52s\n",
      "[BernoulliRBM] Iteration 9, pseudo-likelihood = -24.09, time = 1.51s\n",
      "[BernoulliRBM] Iteration 10, pseudo-likelihood = -24.26, time = 1.51s\n",
      "[BernoulliRBM] Iteration 1, pseudo-likelihood = -25.42, time = 1.06s\n",
      "[BernoulliRBM] Iteration 2, pseudo-likelihood = -21.51, time = 1.52s\n",
      "[BernoulliRBM] Iteration 3, pseudo-likelihood = -20.41, time = 1.53s\n",
      "[BernoulliRBM] Iteration 4, pseudo-likelihood = -19.10, time = 1.53s\n",
      "[BernoulliRBM] Iteration 5, pseudo-likelihood = -18.71, time = 1.52s\n",
      "[BernoulliRBM] Iteration 6, pseudo-likelihood = -18.79, time = 1.52s\n",
      "[BernoulliRBM] Iteration 7, pseudo-likelihood = -18.27, time = 1.52s\n",
      "[BernoulliRBM] Iteration 8, pseudo-likelihood = -17.92, time = 1.52s\n",
      "[BernoulliRBM] Iteration 9, pseudo-likelihood = -18.63, time = 1.51s\n",
      "[BernoulliRBM] Iteration 10, pseudo-likelihood = -19.19, time = 1.50s\n"
     ]
    },
    {
     "name": "stderr",
     "output_type": "stream",
     "text": [
      "C:\\ProgramData\\Anaconda3\\lib\\site-packages\\sklearn\\linear_model\\_logistic.py:458: ConvergenceWarning: lbfgs failed to converge (status=1):\n",
      "STOP: TOTAL NO. of ITERATIONS REACHED LIMIT.\n",
      "\n",
      "Increase the number of iterations (max_iter) or scale the data as shown in:\n",
      "    https://scikit-learn.org/stable/modules/preprocessing.html\n",
      "Please also refer to the documentation for alternative solver options:\n",
      "    https://scikit-learn.org/stable/modules/linear_model.html#logistic-regression\n",
      "  n_iter_i = _check_optimize_result(\n"
     ]
    },
    {
     "data": {
      "text/html": [
       "<style>#sk-container-id-2 {color: black;background-color: white;}#sk-container-id-2 pre{padding: 0;}#sk-container-id-2 div.sk-toggleable {background-color: white;}#sk-container-id-2 label.sk-toggleable__label {cursor: pointer;display: block;width: 100%;margin-bottom: 0;padding: 0.3em;box-sizing: border-box;text-align: center;}#sk-container-id-2 label.sk-toggleable__label-arrow:before {content: \"▸\";float: left;margin-right: 0.25em;color: #696969;}#sk-container-id-2 label.sk-toggleable__label-arrow:hover:before {color: black;}#sk-container-id-2 div.sk-estimator:hover label.sk-toggleable__label-arrow:before {color: black;}#sk-container-id-2 div.sk-toggleable__content {max-height: 0;max-width: 0;overflow: hidden;text-align: left;background-color: #f0f8ff;}#sk-container-id-2 div.sk-toggleable__content pre {margin: 0.2em;color: black;border-radius: 0.25em;background-color: #f0f8ff;}#sk-container-id-2 input.sk-toggleable__control:checked~div.sk-toggleable__content {max-height: 200px;max-width: 100%;overflow: auto;}#sk-container-id-2 input.sk-toggleable__control:checked~label.sk-toggleable__label-arrow:before {content: \"▾\";}#sk-container-id-2 div.sk-estimator input.sk-toggleable__control:checked~label.sk-toggleable__label {background-color: #d4ebff;}#sk-container-id-2 div.sk-label input.sk-toggleable__control:checked~label.sk-toggleable__label {background-color: #d4ebff;}#sk-container-id-2 input.sk-hidden--visually {border: 0;clip: rect(1px 1px 1px 1px);clip: rect(1px, 1px, 1px, 1px);height: 1px;margin: -1px;overflow: hidden;padding: 0;position: absolute;width: 1px;}#sk-container-id-2 div.sk-estimator {font-family: monospace;background-color: #f0f8ff;border: 1px dotted black;border-radius: 0.25em;box-sizing: border-box;margin-bottom: 0.5em;}#sk-container-id-2 div.sk-estimator:hover {background-color: #d4ebff;}#sk-container-id-2 div.sk-parallel-item::after {content: \"\";width: 100%;border-bottom: 1px solid gray;flex-grow: 1;}#sk-container-id-2 div.sk-label:hover label.sk-toggleable__label {background-color: #d4ebff;}#sk-container-id-2 div.sk-serial::before {content: \"\";position: absolute;border-left: 1px solid gray;box-sizing: border-box;top: 0;bottom: 0;left: 50%;z-index: 0;}#sk-container-id-2 div.sk-serial {display: flex;flex-direction: column;align-items: center;background-color: white;padding-right: 0.2em;padding-left: 0.2em;position: relative;}#sk-container-id-2 div.sk-item {position: relative;z-index: 1;}#sk-container-id-2 div.sk-parallel {display: flex;align-items: stretch;justify-content: center;background-color: white;position: relative;}#sk-container-id-2 div.sk-item::before, #sk-container-id-2 div.sk-parallel-item::before {content: \"\";position: absolute;border-left: 1px solid gray;box-sizing: border-box;top: 0;bottom: 0;left: 50%;z-index: -1;}#sk-container-id-2 div.sk-parallel-item {display: flex;flex-direction: column;z-index: 1;position: relative;background-color: white;}#sk-container-id-2 div.sk-parallel-item:first-child::after {align-self: flex-end;width: 50%;}#sk-container-id-2 div.sk-parallel-item:last-child::after {align-self: flex-start;width: 50%;}#sk-container-id-2 div.sk-parallel-item:only-child::after {width: 0;}#sk-container-id-2 div.sk-dashed-wrapped {border: 1px dashed gray;margin: 0 0.4em 0.5em 0.4em;box-sizing: border-box;padding-bottom: 0.4em;background-color: white;}#sk-container-id-2 div.sk-label label {font-family: monospace;font-weight: bold;display: inline-block;line-height: 1.2em;}#sk-container-id-2 div.sk-label-container {text-align: center;}#sk-container-id-2 div.sk-container {/* jupyter's `normalize.less` sets `[hidden] { display: none; }` but bootstrap.min.css set `[hidden] { display: none !important; }` so we also need the `!important` here to be able to override the default hidden behavior on the sphinx rendered scikit-learn.org. See: https://github.com/scikit-learn/scikit-learn/issues/21755 */display: inline-block !important;position: relative;}#sk-container-id-2 div.sk-text-repr-fallback {display: none;}</style><div id=\"sk-container-id-2\" class=\"sk-top-container\"><div class=\"sk-text-repr-fallback\"><pre>Pipeline(steps=[(&#x27;rbm1&#x27;,\n",
       "                 BernoulliRBM(learning_rate=0.01, n_components=100,\n",
       "                              random_state=0, verbose=True)),\n",
       "                (&#x27;rbm2&#x27;,\n",
       "                 BernoulliRBM(learning_rate=0.01, n_components=100,\n",
       "                              random_state=0, verbose=True)),\n",
       "                (&#x27;rbm3&#x27;,\n",
       "                 BernoulliRBM(learning_rate=0.01, n_components=100,\n",
       "                              random_state=0, verbose=True)),\n",
       "                (&#x27;logistic&#x27;, LogisticRegression())])</pre><b>In a Jupyter environment, please rerun this cell to show the HTML representation or trust the notebook. <br />On GitHub, the HTML representation is unable to render, please try loading this page with nbviewer.org.</b></div><div class=\"sk-container\" hidden><div class=\"sk-item sk-dashed-wrapped\"><div class=\"sk-label-container\"><div class=\"sk-label sk-toggleable\"><input class=\"sk-toggleable__control sk-hidden--visually\" id=\"sk-estimator-id-5\" type=\"checkbox\" ><label for=\"sk-estimator-id-5\" class=\"sk-toggleable__label sk-toggleable__label-arrow\">Pipeline</label><div class=\"sk-toggleable__content\"><pre>Pipeline(steps=[(&#x27;rbm1&#x27;,\n",
       "                 BernoulliRBM(learning_rate=0.01, n_components=100,\n",
       "                              random_state=0, verbose=True)),\n",
       "                (&#x27;rbm2&#x27;,\n",
       "                 BernoulliRBM(learning_rate=0.01, n_components=100,\n",
       "                              random_state=0, verbose=True)),\n",
       "                (&#x27;rbm3&#x27;,\n",
       "                 BernoulliRBM(learning_rate=0.01, n_components=100,\n",
       "                              random_state=0, verbose=True)),\n",
       "                (&#x27;logistic&#x27;, LogisticRegression())])</pre></div></div></div><div class=\"sk-serial\"><div class=\"sk-item\"><div class=\"sk-estimator sk-toggleable\"><input class=\"sk-toggleable__control sk-hidden--visually\" id=\"sk-estimator-id-6\" type=\"checkbox\" ><label for=\"sk-estimator-id-6\" class=\"sk-toggleable__label sk-toggleable__label-arrow\">BernoulliRBM</label><div class=\"sk-toggleable__content\"><pre>BernoulliRBM(learning_rate=0.01, n_components=100, random_state=0, verbose=True)</pre></div></div></div><div class=\"sk-item\"><div class=\"sk-estimator sk-toggleable\"><input class=\"sk-toggleable__control sk-hidden--visually\" id=\"sk-estimator-id-7\" type=\"checkbox\" ><label for=\"sk-estimator-id-7\" class=\"sk-toggleable__label sk-toggleable__label-arrow\">BernoulliRBM</label><div class=\"sk-toggleable__content\"><pre>BernoulliRBM(learning_rate=0.01, n_components=100, random_state=0, verbose=True)</pre></div></div></div><div class=\"sk-item\"><div class=\"sk-estimator sk-toggleable\"><input class=\"sk-toggleable__control sk-hidden--visually\" id=\"sk-estimator-id-8\" type=\"checkbox\" ><label for=\"sk-estimator-id-8\" class=\"sk-toggleable__label sk-toggleable__label-arrow\">BernoulliRBM</label><div class=\"sk-toggleable__content\"><pre>BernoulliRBM(learning_rate=0.01, n_components=100, random_state=0, verbose=True)</pre></div></div></div><div class=\"sk-item\"><div class=\"sk-estimator sk-toggleable\"><input class=\"sk-toggleable__control sk-hidden--visually\" id=\"sk-estimator-id-9\" type=\"checkbox\" ><label for=\"sk-estimator-id-9\" class=\"sk-toggleable__label sk-toggleable__label-arrow\">LogisticRegression</label><div class=\"sk-toggleable__content\"><pre>LogisticRegression()</pre></div></div></div></div></div></div></div>"
      ],
      "text/plain": [
       "Pipeline(steps=[('rbm1',\n",
       "                 BernoulliRBM(learning_rate=0.01, n_components=100,\n",
       "                              random_state=0, verbose=True)),\n",
       "                ('rbm2',\n",
       "                 BernoulliRBM(learning_rate=0.01, n_components=100,\n",
       "                              random_state=0, verbose=True)),\n",
       "                ('rbm3',\n",
       "                 BernoulliRBM(learning_rate=0.01, n_components=100,\n",
       "                              random_state=0, verbose=True)),\n",
       "                ('logistic', LogisticRegression())])"
      ]
     },
     "execution_count": 38,
     "metadata": {},
     "output_type": "execute_result"
    }
   ],
   "source": [
    "# Train the DBN on the data\n",
    "dbn.fit(X_train, train_y)"
   ]
  },
  {
   "cell_type": "code",
   "execution_count": 39,
   "id": "a034d73b",
   "metadata": {},
   "outputs": [
    {
     "name": "stdout",
     "output_type": "stream",
     "text": [
      "Training set Pseudo-Likelihood = 0.94325\n",
      "Validation set Pseudo-Likelihood = 0.9456\n"
     ]
    }
   ],
   "source": [
    "#print(\"Training set Pseudo-Likelihood =\", dbn.score(X_train, train_y))\n",
    "#print(\"Validation set Pseudo-Likelihood =\", dbn.score(X_test, test_y))"
   ]
  },
  {
   "cell_type": "code",
   "execution_count": 40,
   "id": "20219055",
   "metadata": {},
   "outputs": [],
   "source": [
    "result = dbn.predict(X_test)"
   ]
  },
  {
   "cell_type": "code",
   "execution_count": 58,
   "id": "98868a01",
   "metadata": {},
   "outputs": [
    {
     "name": "stdout",
     "output_type": "stream",
     "text": [
      "Real: 7 - Modelo: 7\n",
      "Real: 2 - Modelo: 2\n",
      "Real: 1 - Modelo: 1\n",
      "Real: 0 - Modelo: 0\n",
      "Real: 4 - Modelo: 4\n",
      "Real: 1 - Modelo: 1\n",
      "Real: 4 - Modelo: 4\n",
      "Real: 9 - Modelo: 9\n",
      "Real: 5 - Modelo: 5\n",
      "Real: 9 - Modelo: 9\n"
     ]
    }
   ],
   "source": [
    "n_prediction= 10\n",
    "for i in range(n_prediction):\n",
    "    print(f'Real: {test_y[i]} - Modelo: {result[i]}')"
   ]
  },
  {
   "cell_type": "code",
   "execution_count": 54,
   "id": "1cbf51b9",
   "metadata": {},
   "outputs": [
    {
     "name": "stdout",
     "output_type": "stream",
     "text": [
      "Model performance:\n",
      "              precision    recall  f1-score   support\n",
      "\n",
      "           0       0.96      0.98      0.97       980\n",
      "           1       0.98      0.98      0.98      1135\n",
      "           2       0.96      0.95      0.95      1032\n",
      "           3       0.94      0.93      0.93      1010\n",
      "           4       0.94      0.92      0.93       982\n",
      "           5       0.94      0.95      0.94       892\n",
      "           6       0.97      0.97      0.97       958\n",
      "           7       0.96      0.94      0.95      1028\n",
      "           8       0.91      0.93      0.92       974\n",
      "           9       0.90      0.91      0.91      1009\n",
      "\n",
      "    accuracy                           0.95     10000\n",
      "   macro avg       0.95      0.95      0.95     10000\n",
      "weighted avg       0.95      0.95      0.95     10000\n",
      "\n",
      "\n"
     ]
    }
   ],
   "source": [
    "from sklearn.metrics import classification_report\n",
    "\n",
    "print(\"Model performance:\\n%s\\n\" % (\n",
    "            classification_report(test_y, result)))"
   ]
  },
  {
   "cell_type": "markdown",
   "id": "dc9fc9ba",
   "metadata": {},
   "source": [
    "### O modelo DBN BernoulliRBM consegue ler os pixels de uma imagem 28x28 e reconhecer qual é o número com 95% de acurácia."
   ]
  },
  {
   "cell_type": "code",
   "execution_count": null,
   "id": "df00eeec",
   "metadata": {},
   "outputs": [],
   "source": []
  }
 ],
 "metadata": {
  "kernelspec": {
   "display_name": "Python 3 (ipykernel)",
   "language": "python",
   "name": "python3"
  },
  "language_info": {
   "codemirror_mode": {
    "name": "ipython",
    "version": 3
   },
   "file_extension": ".py",
   "mimetype": "text/x-python",
   "name": "python",
   "nbconvert_exporter": "python",
   "pygments_lexer": "ipython3",
   "version": "3.9.13"
  }
 },
 "nbformat": 4,
 "nbformat_minor": 5
}
